{
 "cells": [
  {
   "cell_type": "markdown",
   "id": "b8f784c9",
   "metadata": {},
   "source": [
    "# Semana 03\n",
    "Axel Barzola Mendoza"
   ]
  },
  {
   "cell_type": "raw",
   "id": "21c519db",
   "metadata": {},
   "source": [
    "Temas:\n",
    "    1. Numeros\n",
    "    2. Variables\n",
    "    3. Manejo de cadenas\n",
    "    4. Ingreso de Datos por teclado\n",
    "    5. Operadores"
   ]
  },
  {
   "cell_type": "raw",
   "id": "ff3540cc",
   "metadata": {},
   "source": [
    "Operadores"
   ]
  },
  {
   "cell_type": "code",
   "execution_count": 7,
   "id": "443d073a",
   "metadata": {},
   "outputs": [
    {
     "name": "stdout",
     "output_type": "stream",
     "text": [
      "29\n",
      "-1\n",
      "210\n",
      "0.9333333333333333\n",
      "155568095557812224\n",
      "14\n",
      "0\n"
     ]
    }
   ],
   "source": [
    "numero1 = 14\n",
    "numero2 = 15\n",
    "suma = numero1 + numero2\n",
    "resta = numero1 - numero2\n",
    "multiplicacion = numero1 * numero2\n",
    "division = numero1 / numero2\n",
    "potencia = numero1 ** numero2\n",
    "residuo = numero1 % numero2\n",
    "cociente = numero1 // numero2\n",
    "\n",
    "print(suma)\n",
    "print(resta)\n",
    "print(multiplicacion)\n",
    "print(division)\n",
    "print(potencia)\n",
    "print(residuo)\n",
    "print(cociente)"
   ]
  },
  {
   "cell_type": "code",
   "execution_count": 8,
   "id": "6db4969a",
   "metadata": {},
   "outputs": [
    {
     "name": "stdout",
     "output_type": "stream",
     "text": [
      "125\n"
     ]
    }
   ],
   "source": [
    "numero = 5\n",
    "numero **= 3\n",
    "print(numero)"
   ]
  },
  {
   "cell_type": "code",
   "execution_count": 9,
   "id": "479a7216",
   "metadata": {},
   "outputs": [
    {
     "data": {
      "text/plain": [
       "False"
      ]
     },
     "execution_count": 9,
     "metadata": {},
     "output_type": "execute_result"
    }
   ],
   "source": [
    "# ==, !=, <, >, <=, >=\n",
    "numero1 = 5\n",
    "numero2 = 4\n",
    "numero1 == numero2"
   ]
  },
  {
   "cell_type": "code",
   "execution_count": 10,
   "id": "d7d944b0",
   "metadata": {},
   "outputs": [
    {
     "data": {
      "text/plain": [
       "True"
      ]
     },
     "execution_count": 10,
     "metadata": {},
     "output_type": "execute_result"
    }
   ],
   "source": [
    "cadena1 = \"Hola\"\n",
    "cadena2 = \"Hola\"\n",
    "cadena1 == cadena2"
   ]
  },
  {
   "cell_type": "code",
   "execution_count": 11,
   "id": "1a6add7f",
   "metadata": {},
   "outputs": [
    {
     "data": {
      "text/plain": [
       "False"
      ]
     },
     "execution_count": 11,
     "metadata": {},
     "output_type": "execute_result"
    }
   ],
   "source": [
    "cadena1 = \"Hola\"\n",
    "cadena2 = \"Hol a\"\n",
    "cadena1 == cadena2"
   ]
  },
  {
   "cell_type": "code",
   "execution_count": 12,
   "id": "ee5a6259",
   "metadata": {},
   "outputs": [
    {
     "data": {
      "text/plain": [
       "True"
      ]
     },
     "execution_count": 12,
     "metadata": {},
     "output_type": "execute_result"
    }
   ],
   "source": [
    "cadena1 = \"Hola\"\n",
    "cadena2 = \"Hola\"\n",
    "cadena1 == cadena2"
   ]
  },
  {
   "cell_type": "code",
   "execution_count": 13,
   "id": "f501c802",
   "metadata": {},
   "outputs": [],
   "source": [
    "numero1 = 4\n",
    "numero2 = 5\n",
    "numero3 = 6\n",
    "numero4 = 7"
   ]
  },
  {
   "cell_type": "code",
   "execution_count": 14,
   "id": "4f0ab3a9",
   "metadata": {},
   "outputs": [
    {
     "data": {
      "text/plain": [
       "True"
      ]
     },
     "execution_count": 14,
     "metadata": {},
     "output_type": "execute_result"
    }
   ],
   "source": [
    "numero1 < numero2"
   ]
  },
  {
   "cell_type": "code",
   "execution_count": 15,
   "id": "02898e5a",
   "metadata": {},
   "outputs": [],
   "source": [
    "aula = [\"Juan\", \"Daniel\", \"Ruben\"]\n",
    "alumno1 = \"Diego\"\n",
    "alumno2 = \"Juan\""
   ]
  },
  {
   "cell_type": "code",
   "execution_count": 16,
   "id": "40999219",
   "metadata": {},
   "outputs": [
    {
     "data": {
      "text/plain": [
       "False"
      ]
     },
     "execution_count": 16,
     "metadata": {},
     "output_type": "execute_result"
    }
   ],
   "source": [
    "alumno1 in aula"
   ]
  },
  {
   "cell_type": "code",
   "execution_count": 17,
   "id": "7c673b67",
   "metadata": {},
   "outputs": [
    {
     "ename": "NameError",
     "evalue": "name 'alumno3' is not defined",
     "output_type": "error",
     "traceback": [
      "\u001b[1;31m---------------------------------------------------------------------------\u001b[0m",
      "\u001b[1;31mNameError\u001b[0m                                 Traceback (most recent call last)",
      "\u001b[1;32m~\\AppData\\Local\\Temp\\ipykernel_7544\\3148710214.py\u001b[0m in \u001b[0;36m<module>\u001b[1;34m\u001b[0m\n\u001b[1;32m----> 1\u001b[1;33m \u001b[0malumno3\u001b[0m \u001b[1;32min\u001b[0m \u001b[0maula\u001b[0m\u001b[1;33m\u001b[0m\u001b[1;33m\u001b[0m\u001b[0m\n\u001b[0m",
      "\u001b[1;31mNameError\u001b[0m: name 'alumno3' is not defined"
     ]
    }
   ],
   "source": [
    "alumno3 in aula"
   ]
  },
  {
   "cell_type": "code",
   "execution_count": 18,
   "id": "70654fb0",
   "metadata": {},
   "outputs": [
    {
     "data": {
      "text/plain": [
       "False"
      ]
     },
     "execution_count": 18,
     "metadata": {},
     "output_type": "execute_result"
    }
   ],
   "source": [
    "alumno2 not in aula"
   ]
  },
  {
   "cell_type": "code",
   "execution_count": 23,
   "id": "53aa05c9",
   "metadata": {},
   "outputs": [],
   "source": [
    "# OPERADORES DE IDENTIDAD\n",
    "# is, is not\n",
    "\n",
    "aula1 = [\"Juan\", \"Daniel\", \"Ruben\", \"Diego\"]\n",
    "aula2 = [\"Juan\", \"Daniel\", \"Ruben\"]\n",
    "aula3 = [\"Juan\", \"Daniel\", \"Ruben\", \"Diego\"]"
   ]
  },
  {
   "cell_type": "code",
   "execution_count": 20,
   "id": "25f64c6d",
   "metadata": {},
   "outputs": [
    {
     "data": {
      "text/plain": [
       "False"
      ]
     },
     "execution_count": 20,
     "metadata": {},
     "output_type": "execute_result"
    }
   ],
   "source": [
    "aula1 is aula3"
   ]
  },
  {
   "cell_type": "code",
   "execution_count": 21,
   "id": "6d74448f",
   "metadata": {},
   "outputs": [
    {
     "data": {
      "text/plain": [
       "False"
      ]
     },
     "execution_count": 21,
     "metadata": {},
     "output_type": "execute_result"
    }
   ],
   "source": [
    "aula3 is aula1"
   ]
  },
  {
   "cell_type": "code",
   "execution_count": 24,
   "id": "64e8aadf",
   "metadata": {},
   "outputs": [
    {
     "data": {
      "text/plain": [
       "False"
      ]
     },
     "execution_count": 24,
     "metadata": {},
     "output_type": "execute_result"
    }
   ],
   "source": [
    "aula2 is aula1"
   ]
  },
  {
   "cell_type": "code",
   "execution_count": 25,
   "id": "06fc3cd8",
   "metadata": {},
   "outputs": [],
   "source": [
    "aula2.append(\"Diego\")"
   ]
  },
  {
   "cell_type": "code",
   "execution_count": 26,
   "id": "d2add30a",
   "metadata": {},
   "outputs": [
    {
     "data": {
      "text/plain": [
       "['Juan', 'Daniel', 'Ruben', 'Diego']"
      ]
     },
     "execution_count": 26,
     "metadata": {},
     "output_type": "execute_result"
    }
   ],
   "source": [
    "aula2"
   ]
  },
  {
   "cell_type": "code",
   "execution_count": null,
   "id": "ecb06009",
   "metadata": {},
   "outputs": [],
   "source": []
  }
 ],
 "metadata": {
  "kernelspec": {
   "display_name": "Python 3 (ipykernel)",
   "language": "python",
   "name": "python3"
  },
  "language_info": {
   "codemirror_mode": {
    "name": "ipython",
    "version": 3
   },
   "file_extension": ".py",
   "mimetype": "text/x-python",
   "name": "python",
   "nbconvert_exporter": "python",
   "pygments_lexer": "ipython3",
   "version": "3.9.13"
  }
 },
 "nbformat": 4,
 "nbformat_minor": 5
}
