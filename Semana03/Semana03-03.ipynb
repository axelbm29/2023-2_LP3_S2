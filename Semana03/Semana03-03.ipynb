{
 "cells": [
  {
   "cell_type": "markdown",
   "id": "b51ceec5",
   "metadata": {},
   "source": [
    "# Semana 03\n",
    "Axel Barzola Mendoza"
   ]
  },
  {
   "cell_type": "raw",
   "id": "c980cec2",
   "metadata": {},
   "source": [
    "Temas:\n",
    "    1. Numeros\n",
    "    2. Variables\n",
    "    3. Manejo de cadenas\n",
    "    4. Ingreso de Datos por teclado\n",
    "    5. Operadores"
   ]
  },
  {
   "cell_type": "markdown",
   "id": "80ecda44",
   "metadata": {},
   "source": [
    "3. Manejo de cadenas"
   ]
  },
  {
   "cell_type": "code",
   "execution_count": 2,
   "id": "88562fdb",
   "metadata": {},
   "outputs": [
    {
     "data": {
      "text/plain": [
       "'Universidad Nacional Tecnologica de Lima Sur'"
      ]
     },
     "execution_count": 2,
     "metadata": {},
     "output_type": "execute_result"
    }
   ],
   "source": [
    "cadena = \"Universidad Nacional Tecnologica de Lima Sur\"\n",
    "cadena"
   ]
  },
  {
   "cell_type": "code",
   "execution_count": 3,
   "id": "999d53d1",
   "metadata": {},
   "outputs": [
    {
     "data": {
      "text/plain": [
       "'U'"
      ]
     },
     "execution_count": 3,
     "metadata": {},
     "output_type": "execute_result"
    }
   ],
   "source": [
    "# Universidad Nacional Tecnologica de Lima Sur\n",
    "# 012345678...\n",
    "cadena[0]"
   ]
  },
  {
   "cell_type": "code",
   "execution_count": 4,
   "id": "ba88b51e",
   "metadata": {},
   "outputs": [
    {
     "data": {
      "text/plain": [
       "'r'"
      ]
     },
     "execution_count": 4,
     "metadata": {},
     "output_type": "execute_result"
    }
   ],
   "source": [
    "cadena[-1]"
   ]
  },
  {
   "cell_type": "code",
   "execution_count": 5,
   "id": "db3926e4",
   "metadata": {},
   "outputs": [
    {
     "data": {
      "text/plain": [
       "'r'"
      ]
     },
     "execution_count": 5,
     "metadata": {},
     "output_type": "execute_result"
    }
   ],
   "source": [
    "cadena[5]"
   ]
  },
  {
   "cell_type": "code",
   "execution_count": 6,
   "id": "e972e62f",
   "metadata": {},
   "outputs": [
    {
     "data": {
      "text/plain": [
       "'d'"
      ]
     },
     "execution_count": 6,
     "metadata": {},
     "output_type": "execute_result"
    }
   ],
   "source": [
    "cadena[10]"
   ]
  },
  {
   "cell_type": "code",
   "execution_count": 7,
   "id": "c4326d9a",
   "metadata": {},
   "outputs": [
    {
     "data": {
      "text/plain": [
       "' '"
      ]
     },
     "execution_count": 7,
     "metadata": {},
     "output_type": "execute_result"
    }
   ],
   "source": [
    "cadena[11]"
   ]
  },
  {
   "cell_type": "code",
   "execution_count": 8,
   "id": "a8febed9",
   "metadata": {},
   "outputs": [
    {
     "data": {
      "text/plain": [
       "'T'"
      ]
     },
     "execution_count": 8,
     "metadata": {},
     "output_type": "execute_result"
    }
   ],
   "source": [
    "cadena[-23]"
   ]
  },
  {
   "cell_type": "code",
   "execution_count": 9,
   "id": "332f6b56",
   "metadata": {},
   "outputs": [
    {
     "data": {
      "text/plain": [
       "'T'"
      ]
     },
     "execution_count": 9,
     "metadata": {},
     "output_type": "execute_result"
    }
   ],
   "source": [
    "cadena[21]"
   ]
  },
  {
   "cell_type": "code",
   "execution_count": 10,
   "id": "0ceeced5",
   "metadata": {},
   "outputs": [],
   "source": [
    "cadena_invertida = cadena[::-1]"
   ]
  },
  {
   "cell_type": "code",
   "execution_count": 11,
   "id": "c5070b37",
   "metadata": {},
   "outputs": [
    {
     "data": {
      "text/plain": [
       "'ruS amiL ed acigolonceT lanoicaN dadisrevinU'"
      ]
     },
     "execution_count": 11,
     "metadata": {},
     "output_type": "execute_result"
    }
   ],
   "source": [
    "cadena_invertida"
   ]
  },
  {
   "cell_type": "code",
   "execution_count": 12,
   "id": "c60fa260",
   "metadata": {},
   "outputs": [
    {
     "ename": "AttributeError",
     "evalue": "'str' object has no attribute 'reverse'",
     "output_type": "error",
     "traceback": [
      "\u001b[1;31m---------------------------------------------------------------------------\u001b[0m",
      "\u001b[1;31mAttributeError\u001b[0m                            Traceback (most recent call last)",
      "\u001b[1;32m~\\AppData\\Local\\Temp\\ipykernel_11964\\2053511808.py\u001b[0m in \u001b[0;36m<module>\u001b[1;34m\u001b[0m\n\u001b[1;32m----> 1\u001b[1;33m \u001b[0mcadena_inv\u001b[0m \u001b[1;33m=\u001b[0m \u001b[0mcadena\u001b[0m\u001b[1;33m.\u001b[0m\u001b[0mreverse\u001b[0m\u001b[1;33m(\u001b[0m\u001b[1;33m)\u001b[0m\u001b[1;33m\u001b[0m\u001b[1;33m\u001b[0m\u001b[0m\n\u001b[0m",
      "\u001b[1;31mAttributeError\u001b[0m: 'str' object has no attribute 'reverse'"
     ]
    }
   ],
   "source": [
    "cadena_inv = cadena.reverse()"
   ]
  },
  {
   "cell_type": "code",
   "execution_count": 13,
   "id": "80022cf2",
   "metadata": {},
   "outputs": [
    {
     "data": {
      "text/plain": [
       "['Universidad', 'Nacional', 'Tecnologica', 'de', 'Lima', 'Sur']"
      ]
     },
     "execution_count": 13,
     "metadata": {},
     "output_type": "execute_result"
    }
   ],
   "source": [
    "cadena.split()"
   ]
  },
  {
   "cell_type": "code",
   "execution_count": 14,
   "id": "b1902ad7",
   "metadata": {},
   "outputs": [
    {
     "data": {
      "text/plain": [
       "'universidad nacional tecnologica de lima sur'"
      ]
     },
     "execution_count": 14,
     "metadata": {},
     "output_type": "execute_result"
    }
   ],
   "source": [
    "cadena.lower()"
   ]
  },
  {
   "cell_type": "code",
   "execution_count": 15,
   "id": "123ea9fd",
   "metadata": {},
   "outputs": [
    {
     "data": {
      "text/plain": [
       "'UNIVERSIDAD NACIONAL TECNOLOGICA DE LIMA SUR'"
      ]
     },
     "execution_count": 15,
     "metadata": {},
     "output_type": "execute_result"
    }
   ],
   "source": [
    "cadena.upper()"
   ]
  },
  {
   "cell_type": "code",
   "execution_count": 16,
   "id": "85529078",
   "metadata": {},
   "outputs": [
    {
     "data": {
      "text/plain": [
       "['Universidad Nacional Tecnologica de Lima Sur']"
      ]
     },
     "execution_count": 16,
     "metadata": {},
     "output_type": "execute_result"
    }
   ],
   "source": [
    "cadena.split(\"A\")"
   ]
  },
  {
   "cell_type": "code",
   "execution_count": 17,
   "id": "9da200e6",
   "metadata": {},
   "outputs": [
    {
     "data": {
      "text/plain": [
       "['', 'niversidad Nacional Tecnologica de Lima Sur']"
      ]
     },
     "execution_count": 17,
     "metadata": {},
     "output_type": "execute_result"
    }
   ],
   "source": [
    "cadena.split(\"U\")"
   ]
  },
  {
   "cell_type": "code",
   "execution_count": 18,
   "id": "55f6b24e",
   "metadata": {},
   "outputs": [
    {
     "data": {
      "text/plain": [
       "['Universidad', 'Nacional', 'Tecnologica', 'de', 'Lima', 'Sur']"
      ]
     },
     "execution_count": 18,
     "metadata": {},
     "output_type": "execute_result"
    }
   ],
   "source": [
    "cadena.split(\" \")"
   ]
  },
  {
   "cell_type": "code",
   "execution_count": 21,
   "id": "069318da",
   "metadata": {},
   "outputs": [],
   "source": [
    "(cadena.split()).reverse()"
   ]
  },
  {
   "cell_type": "code",
   "execution_count": 22,
   "id": "6d16c69c",
   "metadata": {},
   "outputs": [],
   "source": [
    "(cadena.split()).reverse()"
   ]
  },
  {
   "cell_type": "code",
   "execution_count": 23,
   "id": "00eb37f5",
   "metadata": {},
   "outputs": [],
   "source": [
    "[cadena.split()].reverse()"
   ]
  },
  {
   "cell_type": "code",
   "execution_count": 24,
   "id": "94664a3a",
   "metadata": {},
   "outputs": [
    {
     "ename": "NameError",
     "evalue": "name 'hola' is not defined",
     "output_type": "error",
     "traceback": [
      "\u001b[1;31m---------------------------------------------------------------------------\u001b[0m",
      "\u001b[1;31mNameError\u001b[0m                                 Traceback (most recent call last)",
      "\u001b[1;32m~\\AppData\\Local\\Temp\\ipykernel_11964\\3297960001.py\u001b[0m in \u001b[0;36m<module>\u001b[1;34m\u001b[0m\n\u001b[1;32m----> 1\u001b[1;33m \u001b[0mhola\u001b[0m\u001b[1;33m\u001b[0m\u001b[1;33m\u001b[0m\u001b[0m\n\u001b[0m",
      "\u001b[1;31mNameError\u001b[0m: name 'hola' is not defined"
     ]
    }
   ],
   "source": [
    "hola"
   ]
  },
  {
   "cell_type": "code",
   "execution_count": 25,
   "id": "4a53ff24",
   "metadata": {},
   "outputs": [
    {
     "name": "stdout",
     "output_type": "stream",
     "text": [
      "10/3 es = 3.3333333333333335 \n"
     ]
    }
   ],
   "source": [
    "resultado = 10/3\n",
    "print(\"10/3 es = {} \".format(resultado))"
   ]
  },
  {
   "cell_type": "code",
   "execution_count": 27,
   "id": "06e01bd3",
   "metadata": {},
   "outputs": [
    {
     "name": "stdout",
     "output_type": "stream",
     "text": [
      "10/3 es = 3.3333333333333335 \n",
      "10/3 es = 3.33 \n"
     ]
    }
   ],
   "source": [
    "resultado = 10/3\n",
    "print(\"10/3 es = {} \".format(resultado))\n",
    "print(\"10/3 es = {r:1.2f} \".format(r=resultado))"
   ]
  },
  {
   "cell_type": "code",
   "execution_count": 28,
   "id": "2f7291bb",
   "metadata": {},
   "outputs": [
    {
     "name": "stdout",
     "output_type": "stream",
     "text": [
      "Mi nombre es Axel y tengo 21 años\n"
     ]
    }
   ],
   "source": [
    "nombre = \"Axel\"\n",
    "edad = 21\n",
    "print(f\"Mi nombre es {nombre} y tengo {edad} años\")"
   ]
  },
  {
   "cell_type": "code",
   "execution_count": null,
   "id": "59fb4069",
   "metadata": {},
   "outputs": [],
   "source": [
    "resultado = 10/3\n",
    "print(\"10/3 es = .format(resultado)\")"
   ]
  }
 ],
 "metadata": {
  "kernelspec": {
   "display_name": "Python 3 (ipykernel)",
   "language": "python",
   "name": "python3"
  },
  "language_info": {
   "codemirror_mode": {
    "name": "ipython",
    "version": 3
   },
   "file_extension": ".py",
   "mimetype": "text/x-python",
   "name": "python",
   "nbconvert_exporter": "python",
   "pygments_lexer": "ipython3",
   "version": "3.9.13"
  }
 },
 "nbformat": 4,
 "nbformat_minor": 5
}
