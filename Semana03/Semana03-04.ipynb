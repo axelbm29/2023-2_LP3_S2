{
 "cells": [
  {
   "cell_type": "markdown",
   "id": "c2603424",
   "metadata": {},
   "source": [
    "# Semana 03\n",
    "Axel Barzola Mendoza"
   ]
  },
  {
   "cell_type": "raw",
   "id": "da664356",
   "metadata": {},
   "source": [
    "Temas:\n",
    "    1. Numeros\n",
    "    2. Variables\n",
    "    3. Manejo de cadenas\n",
    "    4. Ingreso de Datos por teclado\n",
    "    5. Operadores"
   ]
  },
  {
   "cell_type": "raw",
   "id": "53993372",
   "metadata": {},
   "source": [
    "Ingreso de Datos por teclado"
   ]
  },
  {
   "cell_type": "code",
   "execution_count": 4,
   "id": "72bae534",
   "metadata": {},
   "outputs": [
    {
     "name": "stdout",
     "output_type": "stream",
     "text": [
      "Numero 1: \n",
      "12\n",
      "Numero 2: \n",
      "52\n",
      "El resultado es 64\n"
     ]
    }
   ],
   "source": [
    "print(\"Numero 1: \")\n",
    "numero1 = input()\n",
    "print(\"Numero 2: \")\n",
    "numero2 = input()\n",
    "numero3 = int(numero1) + int(numero2)\n",
    "print(f\"El resultado es {numero3}\")"
   ]
  },
  {
   "cell_type": "code",
   "execution_count": null,
   "id": "7c3ecb4c",
   "metadata": {},
   "outputs": [],
   "source": []
  }
 ],
 "metadata": {
  "kernelspec": {
   "display_name": "Python 3 (ipykernel)",
   "language": "python",
   "name": "python3"
  },
  "language_info": {
   "codemirror_mode": {
    "name": "ipython",
    "version": 3
   },
   "file_extension": ".py",
   "mimetype": "text/x-python",
   "name": "python",
   "nbconvert_exporter": "python",
   "pygments_lexer": "ipython3",
   "version": "3.9.13"
  }
 },
 "nbformat": 4,
 "nbformat_minor": 5
}
