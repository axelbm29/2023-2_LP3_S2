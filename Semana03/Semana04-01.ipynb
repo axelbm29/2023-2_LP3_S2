{
 "cells": [
  {
   "cell_type": "markdown",
   "id": "05477571",
   "metadata": {},
   "source": [
    "# Semana 03\n",
    "Axel Barzola Mendoza"
   ]
  },
  {
   "cell_type": "raw",
   "id": "289f1bae",
   "metadata": {},
   "source": [
    "Temas\n",
    "1. Colecciones de datos\n",
    "2. Estructuras decisivas y Estructuras Repetitivas\n",
    "3. Clases y objetos\n",
    "4. Funciones"
   ]
  },
  {
   "cell_type": "code",
   "execution_count": 2,
   "id": "aa7901fc",
   "metadata": {},
   "outputs": [],
   "source": [
    "# COLECCIONES DE DATOS"
   ]
  },
  {
   "cell_type": "code",
   "execution_count": 3,
   "id": "d3facdaa",
   "metadata": {},
   "outputs": [],
   "source": [
    "# 1.1 LISTAS\n",
    "aula = ['ASUNCION', 'AYQUIPA', 'BARZOLA', 'CAMAN']\n"
   ]
  },
  {
   "cell_type": "code",
   "execution_count": 4,
   "id": "e06a1d57",
   "metadata": {},
   "outputs": [
    {
     "data": {
      "text/plain": [
       "['ASUNCION', 'AYQUIPA', 'BARZOLA', 'CAMAN']"
      ]
     },
     "execution_count": 4,
     "metadata": {},
     "output_type": "execute_result"
    }
   ],
   "source": [
    "aula"
   ]
  },
  {
   "cell_type": "code",
   "execution_count": 5,
   "id": "d4c1c85e",
   "metadata": {},
   "outputs": [
    {
     "name": "stdout",
     "output_type": "stream",
     "text": [
      "ASUNCION\n"
     ]
    }
   ],
   "source": [
    "print(aula[0])"
   ]
  },
  {
   "cell_type": "code",
   "execution_count": 6,
   "id": "8829cd90",
   "metadata": {},
   "outputs": [
    {
     "ename": "SyntaxError",
     "evalue": "invalid syntax (3626236372.py, line 1)",
     "output_type": "error",
     "traceback": [
      "\u001b[1;36m  File \u001b[1;32m\"C:\\Users\\Alumno\\AppData\\Local\\Temp\\ipykernel_16544\\3626236372.py\"\u001b[1;36m, line \u001b[1;32m1\u001b[0m\n\u001b[1;33m    print(aula[])\u001b[0m\n\u001b[1;37m               ^\u001b[0m\n\u001b[1;31mSyntaxError\u001b[0m\u001b[1;31m:\u001b[0m invalid syntax\n"
     ]
    }
   ],
   "source": [
    "print(aula[])"
   ]
  },
  {
   "cell_type": "code",
   "execution_count": 7,
   "id": "fc0c886a",
   "metadata": {},
   "outputs": [
    {
     "name": "stdout",
     "output_type": "stream",
     "text": [
      "AYQUIPA\n"
     ]
    }
   ],
   "source": [
    "print(aula[1])"
   ]
  },
  {
   "cell_type": "code",
   "execution_count": 8,
   "id": "d01e4bc8",
   "metadata": {},
   "outputs": [],
   "source": [
    "aula.append(\"BARZOLA\")"
   ]
  },
  {
   "cell_type": "code",
   "execution_count": 9,
   "id": "1768a2dd",
   "metadata": {},
   "outputs": [
    {
     "data": {
      "text/plain": [
       "['ASUNCION', 'AYQUIPA', 'BARZOLA', 'CAMAN', 'BARZOLA']"
      ]
     },
     "execution_count": 9,
     "metadata": {},
     "output_type": "execute_result"
    }
   ],
   "source": [
    "aula"
   ]
  },
  {
   "cell_type": "code",
   "execution_count": 10,
   "id": "1b9aed4f",
   "metadata": {},
   "outputs": [],
   "source": [
    "aula.remove(\"ASUNCION\")"
   ]
  },
  {
   "cell_type": "code",
   "execution_count": 11,
   "id": "c70a6f38",
   "metadata": {},
   "outputs": [
    {
     "data": {
      "text/plain": [
       "['AYQUIPA', 'BARZOLA', 'CAMAN', 'BARZOLA']"
      ]
     },
     "execution_count": 11,
     "metadata": {},
     "output_type": "execute_result"
    }
   ],
   "source": [
    "aula"
   ]
  },
  {
   "cell_type": "code",
   "execution_count": 12,
   "id": "c7048960",
   "metadata": {},
   "outputs": [
    {
     "data": {
      "text/plain": [
       "4"
      ]
     },
     "execution_count": 12,
     "metadata": {},
     "output_type": "execute_result"
    }
   ],
   "source": [
    "len(aula)"
   ]
  },
  {
   "cell_type": "code",
   "execution_count": 13,
   "id": "39506f22",
   "metadata": {},
   "outputs": [
    {
     "name": "stdout",
     "output_type": "stream",
     "text": [
      "AYQUIPA\n",
      "BARZOLA\n",
      "CAMAN\n",
      "BARZOLA\n"
     ]
    }
   ],
   "source": [
    "for alumno in aula:\n",
    "    print(alumno)"
   ]
  },
  {
   "cell_type": "code",
   "execution_count": 14,
   "id": "2a97d774",
   "metadata": {},
   "outputs": [],
   "source": [
    "aula.reverse()"
   ]
  },
  {
   "cell_type": "code",
   "execution_count": 15,
   "id": "17c956aa",
   "metadata": {},
   "outputs": [
    {
     "data": {
      "text/plain": [
       "['BARZOLA', 'CAMAN', 'BARZOLA', 'AYQUIPA']"
      ]
     },
     "execution_count": 15,
     "metadata": {},
     "output_type": "execute_result"
    }
   ],
   "source": [
    "aula"
   ]
  },
  {
   "cell_type": "code",
   "execution_count": 16,
   "id": "f8aeb918",
   "metadata": {},
   "outputs": [
    {
     "data": {
      "text/plain": [
       "['AYQUIPA', 'BARZOLA', 'BARZOLA', 'CAMAN']"
      ]
     },
     "execution_count": 16,
     "metadata": {},
     "output_type": "execute_result"
    }
   ],
   "source": [
    "aula.sort()\n",
    "aula"
   ]
  },
  {
   "cell_type": "code",
   "execution_count": 17,
   "id": "b110e558",
   "metadata": {},
   "outputs": [
    {
     "data": {
      "text/plain": [
       "('ASUNCION', 'AYQUIPA', 'BARZOLA', 'CAMAN')"
      ]
     },
     "execution_count": 17,
     "metadata": {},
     "output_type": "execute_result"
    }
   ],
   "source": [
    "tupla_aula = ('ASUNCION', 'AYQUIPA', 'BARZOLA', 'CAMAN')\n",
    "tupla_aula"
   ]
  },
  {
   "cell_type": "code",
   "execution_count": 18,
   "id": "0ae224d1",
   "metadata": {},
   "outputs": [
    {
     "name": "stdout",
     "output_type": "stream",
     "text": [
      "ASUNCION\n",
      "AYQUIPA\n",
      "BARZOLA\n",
      "CAMAN\n"
     ]
    }
   ],
   "source": [
    "for alumno in tupla_aula:\n",
    "    print(alumno)"
   ]
  },
  {
   "cell_type": "code",
   "execution_count": 19,
   "id": "bc673e67",
   "metadata": {},
   "outputs": [
    {
     "data": {
      "text/plain": [
       "('ASUNCION', 'AYQUIPA', 'BARZOLA', 'CAMAN')"
      ]
     },
     "execution_count": 19,
     "metadata": {},
     "output_type": "execute_result"
    }
   ],
   "source": [
    "tupla_aula"
   ]
  },
  {
   "cell_type": "code",
   "execution_count": 20,
   "id": "75ccd22a",
   "metadata": {},
   "outputs": [
    {
     "data": {
      "text/plain": [
       "'BARZOLA'"
      ]
     },
     "execution_count": 20,
     "metadata": {},
     "output_type": "execute_result"
    }
   ],
   "source": [
    "tupla_aula[2]"
   ]
  },
  {
   "cell_type": "code",
   "execution_count": 21,
   "id": "4a55e6b2",
   "metadata": {},
   "outputs": [
    {
     "data": {
      "text/plain": [
       "4"
      ]
     },
     "execution_count": 21,
     "metadata": {},
     "output_type": "execute_result"
    }
   ],
   "source": [
    "len(tupla_aula)"
   ]
  },
  {
   "cell_type": "code",
   "execution_count": 22,
   "id": "3e342982",
   "metadata": {},
   "outputs": [],
   "source": [
    "conjunto_aula = {'ASUNCION', 'AYQUIPA', 'BARZOLA', 'CAMAN'}"
   ]
  },
  {
   "cell_type": "code",
   "execution_count": 23,
   "id": "533e7a9f",
   "metadata": {},
   "outputs": [
    {
     "data": {
      "text/plain": [
       "{'ASUNCION', 'AYQUIPA', 'BARZOLA', 'CAMAN'}"
      ]
     },
     "execution_count": 23,
     "metadata": {},
     "output_type": "execute_result"
    }
   ],
   "source": [
    "conjunto_aula"
   ]
  },
  {
   "cell_type": "code",
   "execution_count": 24,
   "id": "456cbddf",
   "metadata": {},
   "outputs": [],
   "source": [
    "# OBSERVACION: No se puede acceder por posicion pues no considera indexacion\n",
    "# POR EJEMPLO:\n",
    "# conjunto_aula[2] devolveria un mensaje de error"
   ]
  },
  {
   "cell_type": "code",
   "execution_count": 25,
   "id": "df85b5e5",
   "metadata": {},
   "outputs": [
    {
     "data": {
      "text/plain": [
       "{'ASUNCION', 'AYQUIPA', 'BARZOLA', 'CAMAN', 'Curo'}"
      ]
     },
     "execution_count": 25,
     "metadata": {},
     "output_type": "execute_result"
    }
   ],
   "source": [
    "conjunto_aula.add(\"Curo\")\n",
    "conjunto_aula"
   ]
  },
  {
   "cell_type": "code",
   "execution_count": 26,
   "id": "30a767dc",
   "metadata": {},
   "outputs": [
    {
     "data": {
      "text/plain": [
       "{'ASUNCION', 'BARZOLA', 'CAMAN', 'Curo'}"
      ]
     },
     "execution_count": 26,
     "metadata": {},
     "output_type": "execute_result"
    }
   ],
   "source": [
    "conjunto_aula.remove(\"AYQUIPA\")\n",
    "conjunto_aula"
   ]
  },
  {
   "cell_type": "code",
   "execution_count": 27,
   "id": "8cb61f76",
   "metadata": {},
   "outputs": [
    {
     "data": {
      "text/plain": [
       "{2: 'ASUNCION', '1': 'Ayquipa', 'dos': 'Barzola'}"
      ]
     },
     "execution_count": 27,
     "metadata": {},
     "output_type": "execute_result"
    }
   ],
   "source": [
    "# 1.4. DICCIONARIOS\n",
    "# Es una coleccion de elemtnso, que estan\n",
    "# indexados, no estan ordenados y se pueden modificar\n",
    "# son escritas entre llaves y estan formados por pares de elementos\n",
    "# INDICE:VALOR\n",
    "\n",
    "diccionario_aula = {2:'ASUNCION', '1':'Ayquipa', 'dos':'Barzola'}\n",
    "\n",
    "diccionario_aula"
   ]
  },
  {
   "cell_type": "code",
   "execution_count": 30,
   "id": "08d71b78",
   "metadata": {},
   "outputs": [
    {
     "data": {
      "text/plain": [
       "'ASUNCION'"
      ]
     },
     "execution_count": 30,
     "metadata": {},
     "output_type": "execute_result"
    }
   ],
   "source": [
    "diccionario_aula[2]"
   ]
  },
  {
   "cell_type": "code",
   "execution_count": 31,
   "id": "efc6e01b",
   "metadata": {},
   "outputs": [
    {
     "data": {
      "text/plain": [
       "'Barzola'"
      ]
     },
     "execution_count": 31,
     "metadata": {},
     "output_type": "execute_result"
    }
   ],
   "source": [
    "diccionario_aula['dos']"
   ]
  },
  {
   "cell_type": "code",
   "execution_count": 35,
   "id": "242ca4bb",
   "metadata": {},
   "outputs": [],
   "source": [
    "diccionario_aula['20'] = 'Inca'"
   ]
  },
  {
   "cell_type": "code",
   "execution_count": 36,
   "id": "fdf9f630",
   "metadata": {},
   "outputs": [
    {
     "data": {
      "text/plain": [
       "{2: 'ASUNCION', '1': 'Ayquipa', 'dos': 'Barzola', '20': 'Inca'}"
      ]
     },
     "execution_count": 36,
     "metadata": {},
     "output_type": "execute_result"
    }
   ],
   "source": [
    "diccionario_aula"
   ]
  },
  {
   "cell_type": "code",
   "execution_count": 37,
   "id": "6ed36ae1",
   "metadata": {},
   "outputs": [
    {
     "name": "stdout",
     "output_type": "stream",
     "text": [
      "2 ASUNCION\n",
      "1 Ayquipa\n",
      "dos Barzola\n",
      "20 Inca\n"
     ]
    }
   ],
   "source": [
    "for indice, valor in diccionario_aula.items():\n",
    "    print(indice, valor)"
   ]
  },
  {
   "cell_type": "code",
   "execution_count": null,
   "id": "fe2dccb5",
   "metadata": {},
   "outputs": [],
   "source": [
    "listaEjercicio = [\"ASUNCION\"]"
   ]
  }
 ],
 "metadata": {
  "kernelspec": {
   "display_name": "Python 3 (ipykernel)",
   "language": "python",
   "name": "python3"
  },
  "language_info": {
   "codemirror_mode": {
    "name": "ipython",
    "version": 3
   },
   "file_extension": ".py",
   "mimetype": "text/x-python",
   "name": "python",
   "nbconvert_exporter": "python",
   "pygments_lexer": "ipython3",
   "version": "3.9.13"
  }
 },
 "nbformat": 4,
 "nbformat_minor": 5
}
